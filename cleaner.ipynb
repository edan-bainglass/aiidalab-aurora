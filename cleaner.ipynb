{
 "cells": [
  {
   "cell_type": "code",
   "execution_count": null,
   "metadata": {},
   "outputs": [],
   "source": [
    "from aiida.manage.configuration import load_profile\n",
    "from aiida.orm import *\n",
    "from aiida.tools import delete_nodes\n",
    "from aiida_aurora.calculations import BatteryCyclerExperiment\n",
    "from aiida_aurora.data import (BatterySampleData, CyclingSpecsData,\n",
    "                               TomatoSettingsData)\n",
    "from aiida_aurora.workflows import CyclingSequenceWorkChain\n",
    "\n",
    "load_profile()\n"
   ]
  },
  {
   "cell_type": "code",
   "execution_count": null,
   "metadata": {},
   "outputs": [],
   "source": [
    "for ntype in (\n",
    "        Str,\n",
    "        List,\n",
    "        Dict,\n",
    "        BatterySampleData,\n",
    "        TomatoSettingsData,\n",
    "        CyclingSpecsData,\n",
    "        BatteryCyclerExperiment,\n",
    "        CyclingSequenceWorkChain,\n",
    "):\n",
    "    nodes = QueryBuilder().append(ntype, project=[\"id\"]).all(flat=True)\n",
    "    delete_nodes(nodes, dry_run=False)\n",
    "\n",
    "groups = QueryBuilder().append(\n",
    "    Group,\n",
    "    filters={\n",
    "        \"label\": {\n",
    "            \"like\": \"aurora/samples/%\",\n",
    "        },\n",
    "    },\n",
    "    project=[\"id\"],\n",
    ").all(flat=True)\n",
    "\n",
    "for gid in (2, *iter(groups)):\n",
    "    print(f\"Discarding group<{gid}> nodes\")\n",
    "    nodes = [node.pk for node in load_group(gid).nodes]\n",
    "    delete_nodes(nodes, dry_run=False)\n",
    "\n",
    "for group in Group.collection.all():\n",
    "    if group.pk not in {2, 3, 4, 11}:\n",
    "        print(f\"Discarding group<{group.pk}>\")\n",
    "        Group.collection.delete(group.pk)\n"
   ]
  },
  {
   "cell_type": "code",
   "execution_count": null,
   "metadata": {},
   "outputs": [],
   "source": []
  }
 ],
 "metadata": {
  "kernelspec": {
   "display_name": "base",
   "language": "python",
   "name": "python3"
  },
  "language_info": {
   "codemirror_mode": {
    "name": "ipython",
    "version": 3
   },
   "file_extension": ".py",
   "mimetype": "text/x-python",
   "name": "python",
   "nbconvert_exporter": "python",
   "pygments_lexer": "ipython3",
   "version": "3.9.13"
  }
 },
 "nbformat": 4,
 "nbformat_minor": 2
}

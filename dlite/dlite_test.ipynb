{
 "cells": [
  {
   "cell_type": "markdown",
   "metadata": {},
   "source": [
    "# DLite"
   ]
  },
  {
   "cell_type": "markdown",
   "metadata": {},
   "source": [
    "## Test 1 - simple conversion"
   ]
  },
  {
   "cell_type": "code",
   "execution_count": null,
   "metadata": {},
   "outputs": [],
   "source": [
    "# import pint\n",
    "\n",
    "# ureg = pint.UnitRegistry()\n",
    "# ureg.C"
   ]
  },
  {
   "cell_type": "code",
   "execution_count": null,
   "metadata": {},
   "outputs": [],
   "source": [
    "import dlite"
   ]
  },
  {
   "cell_type": "code",
   "execution_count": null,
   "metadata": {},
   "outputs": [],
   "source": [
    "from pathlib import Path\n",
    "\n",
    "dlite.python_storage_plugin_path.append(Path(\"drivers\").absolute())"
   ]
  },
  {
   "cell_type": "code",
   "execution_count": null,
   "metadata": {},
   "outputs": [],
   "source": [
    "json_instance = dlite.Instance.from_location(\"CyclingStorageParser\", \"data/test.json\")"
   ]
  },
  {
   "cell_type": "code",
   "execution_count": null,
   "metadata": {},
   "outputs": [],
   "source": [
    "print(json_instance)"
   ]
  },
  {
   "cell_type": "markdown",
   "metadata": {},
   "source": [
    "# CSV"
   ]
  },
  {
   "cell_type": "code",
   "execution_count": null,
   "metadata": {},
   "outputs": [],
   "source": [
    "cycling_time_series = dlite.Instance.from_location(\n",
    "    \"csv\",\n",
    "    \"data/test.csv\",\n",
    "    \"mode=r;meta=https://example.com/meta/0.1/CyclingTimeSeries;infer=False\",\n",
    ")"
   ]
  },
  {
   "cell_type": "code",
   "execution_count": null,
   "metadata": {},
   "outputs": [],
   "source": [
    "print(cycling_time_series)"
   ]
  },
  {
   "cell_type": "markdown",
   "metadata": {},
   "source": [
    "## Test 2 - advanced conversion"
   ]
  },
  {
   "cell_type": "markdown",
   "metadata": {},
   "source": [
    "### Ontology\n",
    "\n",
    "- `CurrentTimeCurve`\n",
    "  - Predicates:\n",
    "    - `isA -> Curve`\n",
    "    - `isA -> TimeSeries`\n",
    "    - `hasProperty -> Time`\n",
    "    - `hasProperty -> Current`\n",
    "    - Predicates:\n",
    "      - `isA -> MeasuredProperty`\n",
    "- `ChargeTimeCurve`?\n",
    "  - Predicates:\n",
    "    - `isA -> Curve`\n",
    "    - `isA -> TimeSeries`\n",
    "    - `hasProperty -> Time`\n",
    "    - `hasProperty -> Charge`\n",
    "    - Predicates:\n",
    "      - `isA -> MeasuredProperty`\n",
    "      - `isDerivedFrom -> Time`?\n",
    "      - `isDerivedFrom -> Current`?"
   ]
  },
  {
   "cell_type": "code",
   "execution_count": null,
   "metadata": {},
   "outputs": [],
   "source": [
    "import numpy as np\n",
    "from scipy.integrate import cumtrapz\n",
    "\n",
    "\n",
    "def compute_capacities(t: np.ndarray, I: np.ndarray) -> np.ndarray:  # noqa: E741\n",
    "    \"\"\"Compute capacities as integral of current over time.\"\"\"\n",
    "    return cumtrapz(I, t, axis=0, initial=0)"
   ]
  },
  {
   "cell_type": "code",
   "execution_count": null,
   "metadata": {},
   "outputs": [],
   "source": [
    "from pathlib import Path\n",
    "\n",
    "from tripper import EMMO, RDFS, Triplestore\n",
    "\n",
    "import dlite\n",
    "\n",
    "# Paths\n",
    "thisdir = Path(\".\").absolute()\n",
    "datadir = thisdir / \"data\"\n",
    "modeldir = thisdir / \"models\"\n",
    "dlite.storage_path.append(f\"{modeldir}/*.json\")\n",
    "\n",
    "# Create collection -- our knowledge base in this example\n",
    "coll = dlite.Collection()\n",
    "\n",
    "# Create a triplestore \"view\" of our knowledge base\n",
    "ts = Triplestore(backend=\"collection\", collection=coll)\n",
    "\n",
    "# Add namespaces\n",
    "DON = ts.bind(\"don\", \"http://example.com/demo-ontology#\")\n",
    "CyclingTimeSeries = ts.bind(\n",
    "    \"CyclingTimeSeries\",\n",
    "    \"https://example.com/meta/0.1/CyclingTimeSeries#\",\n",
    ")\n",
    "ChargeTimeSeries = ts.bind(\n",
    "    \"ChargeTimeSeries\",\n",
    "    \"https://example.com/meta/0.1/ChargeTimeSeries#\",\n",
    ")\n",
    "\n",
    "# Load data\n",
    "cycling_time_series = dlite.Instance.from_location(\n",
    "    \"CyclingStorageParser\",\n",
    "    f\"{datadir}/test.json\",\n",
    ")\n",
    "coll.add(\"CyclingTimeSeries\", cycling_time_series)\n",
    "\n",
    "\n",
    "# 1. Map input datamodels -- data provider + ontologist\n",
    "# -----------------------------------------------------\n",
    "\n",
    "# Ontologist adds missing concepts\n",
    "# ts.add_triples([])\n",
    "\n",
    "# Add mappings for the input data models -- data provider\n",
    "ts.add_mapsTo(DON.Time, CyclingTimeSeries.t)\n",
    "ts.add_mapsTo(DON.Current, CyclingTimeSeries.I)\n",
    "\n",
    "\n",
    "# 2. Map output datamodels -- modeller + ontologist\n",
    "# -------------------------------------------------\n",
    "\n",
    "# Ontologist adds missing concepts\n",
    "# ts.add_triples([])\n",
    "\n",
    "# Add mappings for the output data model -- modeller\n",
    "ts.add_mapsTo(DON.Time, ChargeTimeSeries.t)\n",
    "ts.add_mapsTo(DON.Charge, ChargeTimeSeries.Q)\n",
    "\n",
    "\n",
    "# 3. Add mappings for conversion functions -- ontologist\n",
    "# ------------------------------------------------------\n",
    "ts.add_function(\n",
    "    compute_capacities,\n",
    "    expects=[DON.Time, DON.Current],\n",
    "    returns=[DON.Charge],\n",
    "    standard=\"fno\",\n",
    ")\n",
    "\n",
    "\n",
    "# 4. Instantiate a capacity vs. cycle data instance -- modeller\n",
    "# -------------------------------------------------------------\n",
    "(charge_time_series,) = coll.get_instances(\n",
    "    metaid=ChargeTimeSeries,\n",
    "    property_mappings=True,\n",
    "    function_repo=ts.function_repo,\n",
    ")\n",
    "\n",
    "print(\"charge time series instance:\")\n",
    "print(charge_time_series)"
   ]
  },
  {
   "cell_type": "code",
   "execution_count": null,
   "metadata": {},
   "outputs": [],
   "source": []
  }
 ],
 "metadata": {
  "kernelspec": {
   "display_name": "base",
   "language": "python",
   "name": "python3"
  },
  "language_info": {
   "codemirror_mode": {
    "name": "ipython",
    "version": 3
   },
   "file_extension": ".py",
   "mimetype": "text/x-python",
   "name": "python",
   "nbconvert_exporter": "python",
   "pygments_lexer": "ipython3",
   "version": "3.9.13"
  }
 },
 "nbformat": 4,
 "nbformat_minor": 2
}

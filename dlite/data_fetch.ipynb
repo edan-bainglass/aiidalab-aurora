{
 "cells": [
  {
   "cell_type": "code",
   "execution_count": 1,
   "metadata": {},
   "outputs": [
    {
     "data": {
      "text/plain": [
       "Profile<uuid='14f418767fa44f6f9d65ac40c9d45d39' name='default'>"
      ]
     },
     "execution_count": 1,
     "metadata": {},
     "output_type": "execute_result"
    }
   ],
   "source": [
    "from aiida import orm, load_profile\n",
    "from aiida_aurora.calculations import BatteryCyclerExperiment\n",
    "\n",
    "load_profile()"
   ]
  },
  {
   "cell_type": "code",
   "execution_count": 2,
   "metadata": {},
   "outputs": [],
   "source": [
    "qb = (\n",
    "    orm.QueryBuilder()\n",
    "    .append(\n",
    "        orm.Group,\n",
    "        filters={\n",
    "            \"label\": \"aurora/experiments/ga-231012-4.2\",\n",
    "        },\n",
    "        tag=\"group\",\n",
    "    )\n",
    "    .append(\n",
    "        BatteryCyclerExperiment,\n",
    "        with_group=\"group\",\n",
    "        tag=\"experiment\",\n",
    "    )\n",
    "    .append(\n",
    "        orm.ArrayData,\n",
    "        with_incoming=\"experiment\",\n",
    "    )\n",
    ")"
   ]
  },
  {
   "cell_type": "code",
   "execution_count": 3,
   "metadata": {},
   "outputs": [],
   "source": [
    "import numpy as np\n",
    "\n",
    "t, I, V = [], [], []  # noqa: E741\n",
    "result: orm.ArrayData = qb.first(flat=True)\n",
    "\n",
    "time = result.get_array(\"step0_uts\")\n",
    "time -= time[0]\n",
    "current = result.get_array(\"step0_I_n\")\n",
    "voltage = result.get_array(\"step0_Ewe_n\")\n",
    "\n",
    "t = np.array(time)\n",
    "I = np.array(current)\n",
    "V = np.array(voltage)"
   ]
  },
  {
   "cell_type": "code",
   "execution_count": 4,
   "metadata": {},
   "outputs": [],
   "source": [
    "import pandas as pd\n",
    "\n",
    "df = pd.DataFrame({\"t\": t, \"I\": I, \"Ewe\": V}).apply(lambda col: col.explode())\n",
    "# df"
   ]
  },
  {
   "cell_type": "code",
   "execution_count": 5,
   "metadata": {},
   "outputs": [],
   "source": [
    "df.to_csv(\"data/test.csv\", index=False)"
   ]
  },
  {
   "cell_type": "code",
   "execution_count": 6,
   "metadata": {},
   "outputs": [],
   "source": [
    "df[\"t\"] = df[\"t\"].apply(lambda row: row / 3600)\n",
    "df[\"I\"] = df[\"I\"].apply(lambda row: row * 1000)"
   ]
  },
  {
   "cell_type": "code",
   "execution_count": 7,
   "metadata": {},
   "outputs": [],
   "source": [
    "df.to_json(\"data/test.json\", orient=\"split\", index=False)"
   ]
  }
 ],
 "metadata": {
  "kernelspec": {
   "display_name": "base",
   "language": "python",
   "name": "python3"
  },
  "language_info": {
   "codemirror_mode": {
    "name": "ipython",
    "version": 3
   },
   "file_extension": ".py",
   "mimetype": "text/x-python",
   "name": "python",
   "nbconvert_exporter": "python",
   "pygments_lexer": "ipython3",
   "version": "3.9.13"
  }
 },
 "nbformat": 4,
 "nbformat_minor": 2
}
